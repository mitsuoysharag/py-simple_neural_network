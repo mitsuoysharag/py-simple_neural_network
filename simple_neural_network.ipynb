{
  "nbformat": 4,
  "nbformat_minor": 0,
  "metadata": {
    "colab": {
      "name": "My Basic Neural Network.ipynb",
      "version": "0.3.2",
      "provenance": [],
      "collapsed_sections": []
    },
    "kernelspec": {
      "name": "python3",
      "display_name": "Python 3"
    }
  },
  "cells": [
    {
      "cell_type": "code",
      "metadata": {
        "id": "3IN1jecy1v3F",
        "colab_type": "code",
        "outputId": "8b27f620-2294-49c6-deb2-eedd1744a645",
        "colab": {
          "base_uri": "https://localhost:8080/",
          "height": 255
        }
      },
      "source": [
        "import numpy as np\n",
        "\n",
        "def sigmoid(x,deriv=False):\n",
        "    if(deriv==True): return x*(1-x)\n",
        "    return 1/(1+np.exp(-x))\n",
        "\n",
        "def escalon(values):\n",
        "  return np.array([[1 if x>=0 else 0 for x in value] for value in values])\n",
        "\n",
        "def error(real, pred):\n",
        "  return np.sum((real - pred)**2)/2\n",
        "\n",
        "# Data\n",
        "x = np.array([\n",
        "    [0, 0],\n",
        "    [0, 1],\n",
        "    [1, 0],\n",
        "    [1, 1],\n",
        "])\n",
        "y = np.array([[0], [0], [0], [1]])\n",
        "\n",
        "# Training\n",
        "lr = 1\n",
        "i_dim = len(x[0])\n",
        "h_dim = 3\n",
        "o_dim = len(y[0])\n",
        "\n",
        "w0 = np.random.uniform(-1, 1, [i_dim, h_dim])\n",
        "b0 = np.random.uniform(-1, 1, [h_dim])\n",
        "w1 = np.random.uniform(-1, 1, [h_dim, o_dim])\n",
        "b1 = np.random.uniform(-1, 1, [o_dim])\n",
        "\n",
        "for i in range(1000):\n",
        "  # Forward\n",
        "  u0 = x @ w0 + b0\n",
        "  y0 = sigmoid(u0)\n",
        "\n",
        "  u1 = u0 @ w1 + b1\n",
        "  y1 = sigmoid(u1)\n",
        "  \n",
        "  if(i%100 == 0): print(error(y, y1))\n",
        "  \n",
        "  # Backward\n",
        "  delta1 = (y-y1) * sigmoid(y1, True)\n",
        "  w1 += np.dot(y0.T, lr * delta1)\n",
        "  b1 += lr * np.sum(delta1, axis=0)\n",
        "  \n",
        "  delta2 = (delta1 @ w1.T) * sigmoid(y0, True)\n",
        "  w0 += np.dot(x.T, lr * delta2)\n",
        "  b0 += lr * np.sum(delta2, axis=0)\n",
        "  \n",
        "# Predict\n",
        "u0 = x @ w0 + b0\n",
        "y0 = escalon(u0)\n",
        "u1 = u0 @ w1 + b1\n",
        "y1 = escalon(u1)\n",
        "print(y1)"
      ],
      "execution_count": 0,
      "outputs": [
        {
          "output_type": "stream",
          "text": [
            "0.6981512379421594\n",
            "0.017905812947604453\n",
            "0.0058702747173183\n",
            "0.0032440719425034566\n",
            "0.0021764120430588056\n",
            "0.0016133253271722495\n",
            "0.0012704670821317523\n",
            "0.0010417683046269994\n",
            "0.0008792904232602131\n",
            "0.0007584036671162526\n",
            "[[0]\n",
            " [0]\n",
            " [0]\n",
            " [1]]\n"
          ],
          "name": "stdout"
        }
      ]
    }
  ]
}